{
 "cells": [
  {
   "cell_type": "code",
   "execution_count": 3,
   "id": "73f1dda3",
   "metadata": {},
   "outputs": [
    {
     "ename": "ModuleNotFoundError",
     "evalue": "No module named 'src'",
     "output_type": "error",
     "traceback": [
      "\u001b[0;31m---------------------------------------------------------------------------\u001b[0m",
      "\u001b[0;31mModuleNotFoundError\u001b[0m                       Traceback (most recent call last)",
      "Cell \u001b[0;32mIn[3], line 7\u001b[0m\n\u001b[1;32m      4\u001b[0m \u001b[38;5;28;01mimport\u001b[39;00m \u001b[38;5;21;01mtorch\u001b[39;00m\n\u001b[1;32m      5\u001b[0m \u001b[38;5;28;01mfrom\u001b[39;00m \u001b[38;5;21;01mnltk\u001b[39;00m \u001b[38;5;28;01mimport\u001b[39;00m word_tokenize\n\u001b[0;32m----> 7\u001b[0m \u001b[38;5;28;01mfrom\u001b[39;00m \u001b[38;5;21;01msrc\u001b[39;00m\u001b[38;5;21;01m.\u001b[39;00m\u001b[38;5;21;01mdata\u001b[39;00m\u001b[38;5;21;01m.\u001b[39;00m\u001b[38;5;21;01mDisasterDataset\u001b[39;00m \u001b[38;5;28;01mimport\u001b[39;00m DisasterDataset, load_disaster_train_dataset\n\u001b[1;32m      8\u001b[0m \u001b[38;5;28;01mfrom\u001b[39;00m \u001b[38;5;21;01mmodels\u001b[39;00m\u001b[38;5;21;01m.\u001b[39;00m\u001b[38;5;21;01mSimpleMLP\u001b[39;00m \u001b[38;5;28;01mimport\u001b[39;00m SimpleMLP\n\u001b[1;32m      9\u001b[0m \u001b[38;5;28;01mfrom\u001b[39;00m \u001b[38;5;21;01mutils\u001b[39;00m\u001b[38;5;21;01m.\u001b[39;00m\u001b[38;5;21;01membedding_functions\u001b[39;00m \u001b[38;5;28;01mimport\u001b[39;00m averaged_bag_of_words\n",
      "\u001b[0;31mModuleNotFoundError\u001b[0m: No module named 'src'"
     ]
    }
   ],
   "source": [
    "from typing import Callable, Dict\n",
    "\n",
    "import nltk\n",
    "import torch\n",
    "from nltk import word_tokenize\n",
    "\n",
    "from models.SimpleMLP import SimpleMLP\n",
    "from src.data.DisasterDataset import (DisasterDataset,\n",
    "                                      load_disaster_train_dataset)\n",
    "from utils.embedding_functions import averaged_bag_of_words\n",
    "from utils.embeddings import load_word2vec\n",
    "\n",
    "nltk.download(\"punkt\")"
   ]
  },
  {
   "cell_type": "code",
   "execution_count": null,
   "id": "ebf35374",
   "metadata": {},
   "outputs": [],
   "source": [
    "tweets, targets = load_disaster_train_dataset(\"./datasets/disaster/train.csv\")"
   ]
  },
  {
   "cell_type": "code",
   "execution_count": null,
   "id": "9acfaadc",
   "metadata": {},
   "outputs": [],
   "source": [
    "word2vec = load_word2vec(\"./embeddings/GoogleNews-vectors-negative300.bin\")"
   ]
  },
  {
   "cell_type": "code",
   "execution_count": null,
   "id": "64a29ecf",
   "metadata": {},
   "outputs": [],
   "source": [
    "emb_fn: Callable[[list[str]], torch.Tensor] = lambda token_list: averaged_bag_of_words(\n",
    "    token_list, word2vec\n",
    ")\n",
    "\n",
    "train_dataset = DisasterDataset(tweets, targets, emb_fn, word_tokenize)\n",
    "\n",
    "print(train_dataset[0].shape)"
   ]
  }
 ],
 "metadata": {
  "kernelspec": {
   "display_name": "Python 3 (ipykernel)",
   "language": "python",
   "name": "python3"
  },
  "language_info": {
   "codemirror_mode": {
    "name": "ipython",
    "version": 3
   },
   "file_extension": ".py",
   "mimetype": "text/x-python",
   "name": "python",
   "nbconvert_exporter": "python",
   "pygments_lexer": "ipython3",
   "version": "3.12.3"
  }
 },
 "nbformat": 4,
 "nbformat_minor": 5
}
